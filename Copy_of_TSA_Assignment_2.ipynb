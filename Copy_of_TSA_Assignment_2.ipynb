{
  "nbformat": 4,
  "nbformat_minor": 0,
  "metadata": {
    "colab": {
      "provenance": [],
      "authorship_tag": "ABX9TyOAMApQOxR84e0ED04k+R/K",
      "include_colab_link": true
    },
    "kernelspec": {
      "name": "python3",
      "display_name": "Python 3"
    },
    "language_info": {
      "name": "python"
    }
  },
  "cells": [
    {
      "cell_type": "markdown",
      "metadata": {
        "id": "view-in-github",
        "colab_type": "text"
      },
      "source": [
        "<a href=\"https://colab.research.google.com/github/saksham-42/Time-series/blob/main/Copy_of_TSA_Assignment_2.ipynb\" target=\"_parent\"><img src=\"https://colab.research.google.com/assets/colab-badge.svg\" alt=\"Open In Colab\"/></a>"
      ]
    },
    {
      "cell_type": "markdown",
      "source": [
        "# StockGro Final Project: Time Series Forecasting and Analysis\n"
      ],
      "metadata": {
        "id": "94PvraGY2-cg"
      }
    },
    {
      "cell_type": "code",
      "execution_count": null,
      "metadata": {
        "id": "HHmLZO-a1ba8"
      },
      "outputs": [],
      "source": [
        "import yfinance as yf\n",
        "import pandas as pd\n",
        "import numpy as np\n",
        "import matplotlib.pyplot as plt\n",
        "import seaborn as sns\n",
        "from statsmodels.tsa.stattools import adfuller\n",
        "from statsmodels.tsa.arima.model import ARIMA\n",
        "from sklearn.preprocessing import MinMaxScaler\n",
        "from prophet import Prophet\n",
        "from sklearn.metrics import mean_absolute_percentage_error, mean_squared_error\n",
        "from keras.models import Sequential\n",
        "from keras.layers import LSTM, Dense\n",
        "import warnings\n",
        "warnings.filterwarnings(\"ignore\")\n",
        "\n",
        "plt.style.use('seaborn-v0_8-darkgrid')\n",
        "sns.set_palette(\"pastel\")"
      ]
    },
    {
      "cell_type": "markdown",
      "source": [
        "Stock Universe Selection"
      ],
      "metadata": {
        "id": "8W4L2HW615ha"
      }
    },
    {
      "cell_type": "code",
      "source": [
        "# Selected 10 stocks across sectors to ensure diversification\n",
        "stocks = [\n",
        "    'RELIANCE.NS', 'INFY.NS', 'HDFCBANK.NS', 'TCS.NS', 'ITC.NS',\n",
        "    'LT.NS', 'SUNPHARMA.NS', 'MARUTI.NS', 'ADANIGREEN.NS', 'HINDUNILVR.NS'\n",
        "]"
      ],
      "metadata": {
        "id": "FFQeTQPq16xB"
      },
      "execution_count": null,
      "outputs": []
    },
    {
      "cell_type": "markdown",
      "source": [
        "Data Collection\n"
      ],
      "metadata": {
        "id": "nWd_AEdG2GRc"
      }
    },
    {
      "cell_type": "code",
      "source": [
        "start_date = '2020-01-01'\n",
        "end_date = '2024-12-31'\n",
        "stock_data = {}\n",
        "\n",
        "for stock in stocks:\n",
        "    print(f\"Downloading data for {stock}...\")\n",
        "    data = yf.download(stock, start=start_date, end=end_date)\n",
        "    data['Ticker'] = stock\n",
        "    stock_data[stock] = data"
      ],
      "metadata": {
        "colab": {
          "base_uri": "https://localhost:8080/"
        },
        "id": "7aarlitL2HJb",
        "outputId": "2199f857-c729-41cf-dd21-fdc8bdbf4b03"
      },
      "execution_count": null,
      "outputs": [
        {
          "output_type": "stream",
          "name": "stdout",
          "text": [
            "Downloading data for RELIANCE.NS...\n",
            "YF.download() has changed argument auto_adjust default to True\n"
          ]
        },
        {
          "output_type": "stream",
          "name": "stderr",
          "text": [
            "\r[*********************100%***********************]  1 of 1 completed\n"
          ]
        },
        {
          "output_type": "stream",
          "name": "stdout",
          "text": [
            "Downloading data for INFY.NS...\n"
          ]
        },
        {
          "output_type": "stream",
          "name": "stderr",
          "text": [
            "\r[*********************100%***********************]  1 of 1 completed\n"
          ]
        },
        {
          "output_type": "stream",
          "name": "stdout",
          "text": [
            "Downloading data for HDFCBANK.NS...\n"
          ]
        },
        {
          "output_type": "stream",
          "name": "stderr",
          "text": [
            "\r[*********************100%***********************]  1 of 1 completed\n"
          ]
        },
        {
          "output_type": "stream",
          "name": "stdout",
          "text": [
            "Downloading data for TCS.NS...\n"
          ]
        },
        {
          "output_type": "stream",
          "name": "stderr",
          "text": [
            "\r[*********************100%***********************]  1 of 1 completed\n"
          ]
        },
        {
          "output_type": "stream",
          "name": "stdout",
          "text": [
            "Downloading data for ITC.NS...\n"
          ]
        },
        {
          "output_type": "stream",
          "name": "stderr",
          "text": [
            "\r[*********************100%***********************]  1 of 1 completed\n"
          ]
        },
        {
          "output_type": "stream",
          "name": "stdout",
          "text": [
            "Downloading data for LT.NS...\n"
          ]
        },
        {
          "output_type": "stream",
          "name": "stderr",
          "text": [
            "\r[*********************100%***********************]  1 of 1 completed\n"
          ]
        },
        {
          "output_type": "stream",
          "name": "stdout",
          "text": [
            "Downloading data for SUNPHARMA.NS...\n"
          ]
        },
        {
          "output_type": "stream",
          "name": "stderr",
          "text": [
            "\r[*********************100%***********************]  1 of 1 completed\n"
          ]
        },
        {
          "output_type": "stream",
          "name": "stdout",
          "text": [
            "Downloading data for MARUTI.NS...\n"
          ]
        },
        {
          "output_type": "stream",
          "name": "stderr",
          "text": [
            "\r[*********************100%***********************]  1 of 1 completed\n"
          ]
        },
        {
          "output_type": "stream",
          "name": "stdout",
          "text": [
            "Downloading data for ADANIGREEN.NS...\n"
          ]
        },
        {
          "output_type": "stream",
          "name": "stderr",
          "text": [
            "\r[*********************100%***********************]  1 of 1 completed\n"
          ]
        },
        {
          "output_type": "stream",
          "name": "stdout",
          "text": [
            "Downloading data for HINDUNILVR.NS...\n"
          ]
        },
        {
          "output_type": "stream",
          "name": "stderr",
          "text": [
            "\r[*********************100%***********************]  1 of 1 completed\n"
          ]
        }
      ]
    },
    {
      "cell_type": "markdown",
      "source": [
        "Data Preprocessing"
      ],
      "metadata": {
        "id": "kILWyiv02QSd"
      }
    },
    {
      "cell_type": "code",
      "source": [
        "def preprocess_stock(data):\n",
        "    df = data[['Close']].copy()\n",
        "    df = df.ffill().bfill()\n",
        "    df['Log_Return'] = np.log(df['Close']) - np.log(df['Close'].shift(1))\n",
        "    df.dropna(inplace=True)\n",
        "    return df\n",
        "\n",
        "preprocessed = {s: preprocess_stock(df) for s, df in stock_data.items()}"
      ],
      "metadata": {
        "id": "MR4Mao3J2SBe"
      },
      "execution_count": null,
      "outputs": []
    },
    {
      "cell_type": "markdown",
      "source": [
        "Stationarity Check using ADF Test"
      ],
      "metadata": {
        "id": "nHcAobki2Uvt"
      }
    },
    {
      "cell_type": "code",
      "source": [
        "print(\"\\nAugmented Dickey-Fuller Test Results:\")\n",
        "for stock, df in preprocessed.items():\n",
        "    adf_result = adfuller(df['Close'])\n",
        "    print(f\"{stock}: p-value = {adf_result[1]:.4f} - {'Stationary' if adf_result[1] < 0.05 else 'Non-stationary'}\")"
      ],
      "metadata": {
        "colab": {
          "base_uri": "https://localhost:8080/"
        },
        "id": "Z3XN8Xcc2Xcb",
        "outputId": "e1482353-5888-4c15-fabf-1d23db150a3f"
      },
      "execution_count": null,
      "outputs": [
        {
          "output_type": "stream",
          "name": "stdout",
          "text": [
            "\n",
            "Augmented Dickey-Fuller Test Results:\n",
            "RELIANCE.NS: p-value = 0.3296 - Non-stationary\n",
            "INFY.NS: p-value = 0.5678 - Non-stationary\n",
            "HDFCBANK.NS: p-value = 0.5204 - Non-stationary\n",
            "TCS.NS: p-value = 0.5985 - Non-stationary\n",
            "ITC.NS: p-value = 0.9589 - Non-stationary\n",
            "LT.NS: p-value = 0.9695 - Non-stationary\n",
            "SUNPHARMA.NS: p-value = 0.9961 - Non-stationary\n",
            "MARUTI.NS: p-value = 0.7522 - Non-stationary\n",
            "ADANIGREEN.NS: p-value = 0.1809 - Non-stationary\n",
            "HINDUNILVR.NS: p-value = 0.0644 - Non-stationary\n"
          ]
        }
      ]
    },
    {
      "cell_type": "markdown",
      "source": [
        "Train-Test Split"
      ],
      "metadata": {
        "id": "hUMs-Vxk2dKI"
      }
    },
    {
      "cell_type": "code",
      "source": [
        "df_split = {}\n",
        "for stock, df in preprocessed.items():\n",
        "    df_split[stock] = {\n",
        "        'train': df.iloc[:-126],\n",
        "        'test': df.iloc[-126:]\n",
        "    }"
      ],
      "metadata": {
        "id": "bqFePRZQ2d6F"
      },
      "execution_count": null,
      "outputs": []
    },
    {
      "cell_type": "markdown",
      "source": [
        "ARIMA Forecasting"
      ],
      "metadata": {
        "id": "XuawRHHl2jTn"
      }
    },
    {
      "cell_type": "code",
      "source": [
        "forecast_results = {}\n",
        "\n",
        "for stock in stocks:\n",
        "    train = df_split[stock]['train']['Close']\n",
        "    model = ARIMA(train, order=(5,1,0))\n",
        "    model_fit = model.fit()\n",
        "    arima_forecast = model_fit.forecast(steps=2)\n",
        "    forecast_results.setdefault(stock, {})['ARIMA'] = arima_forecast.values"
      ],
      "metadata": {
        "id": "mL2oQI9v2oV2"
      },
      "execution_count": null,
      "outputs": []
    },
    {
      "cell_type": "markdown",
      "source": [
        "Prophet Forecasting\n"
      ],
      "metadata": {
        "id": "YTQfIr5H2r7K"
      }
    },
    {
      "cell_type": "code",
      "source": [
        "for stock in stocks:\n",
        "    df_raw = df_split[stock]['train'].copy()\n",
        "    df = pd.DataFrame({\n",
        "        'ds': df_raw.index,\n",
        "        'y': df_raw['Close'].squeeze().astype(float)\n",
        "    }).dropna()\n",
        "\n",
        "    prophet = Prophet(daily_seasonality=True)\n",
        "    prophet.fit(df)\n",
        "    future = prophet.make_future_dataframe(periods=2)\n",
        "    forecast = prophet.predict(future)\n",
        "    prophet_forecast = forecast[['ds', 'yhat']].tail(2)['yhat'].values\n",
        "    forecast_results[stock]['Prophet'] = prophet_forecast"
      ],
      "metadata": {
        "colab": {
          "base_uri": "https://localhost:8080/"
        },
        "id": "gdgd2QOh2ur7",
        "outputId": "76376e67-fa24-4efd-b0b6-97f365c98779"
      },
      "execution_count": null,
      "outputs": [
        {
          "output_type": "stream",
          "name": "stderr",
          "text": [
            "DEBUG:cmdstanpy:input tempfile: /tmp/tmpnalt1pn5/nv_ewf4x.json\n",
            "DEBUG:cmdstanpy:input tempfile: /tmp/tmpnalt1pn5/stzj1y_k.json\n",
            "DEBUG:cmdstanpy:idx 0\n",
            "DEBUG:cmdstanpy:running CmdStan, num_threads: None\n",
            "DEBUG:cmdstanpy:CmdStan args: ['/usr/local/lib/python3.11/dist-packages/prophet/stan_model/prophet_model.bin', 'random', 'seed=31699', 'data', 'file=/tmp/tmpnalt1pn5/nv_ewf4x.json', 'init=/tmp/tmpnalt1pn5/stzj1y_k.json', 'output', 'file=/tmp/tmpnalt1pn5/prophet_modelc34ghu0r/prophet_model-20250513093146.csv', 'method=optimize', 'algorithm=lbfgs', 'iter=10000']\n",
            "09:31:46 - cmdstanpy - INFO - Chain [1] start processing\n",
            "INFO:cmdstanpy:Chain [1] start processing\n",
            "09:31:46 - cmdstanpy - INFO - Chain [1] done processing\n",
            "INFO:cmdstanpy:Chain [1] done processing\n",
            "DEBUG:cmdstanpy:input tempfile: /tmp/tmpnalt1pn5/4sup8fek.json\n",
            "DEBUG:cmdstanpy:input tempfile: /tmp/tmpnalt1pn5/g4u6d79l.json\n",
            "DEBUG:cmdstanpy:idx 0\n",
            "DEBUG:cmdstanpy:running CmdStan, num_threads: None\n",
            "DEBUG:cmdstanpy:CmdStan args: ['/usr/local/lib/python3.11/dist-packages/prophet/stan_model/prophet_model.bin', 'random', 'seed=11961', 'data', 'file=/tmp/tmpnalt1pn5/4sup8fek.json', 'init=/tmp/tmpnalt1pn5/g4u6d79l.json', 'output', 'file=/tmp/tmpnalt1pn5/prophet_modelhnda42xo/prophet_model-20250513093147.csv', 'method=optimize', 'algorithm=lbfgs', 'iter=10000']\n",
            "09:31:47 - cmdstanpy - INFO - Chain [1] start processing\n",
            "INFO:cmdstanpy:Chain [1] start processing\n",
            "09:31:47 - cmdstanpy - INFO - Chain [1] done processing\n",
            "INFO:cmdstanpy:Chain [1] done processing\n",
            "DEBUG:cmdstanpy:input tempfile: /tmp/tmpnalt1pn5/nmb6gsv5.json\n",
            "DEBUG:cmdstanpy:input tempfile: /tmp/tmpnalt1pn5/ij4vxaql.json\n",
            "DEBUG:cmdstanpy:idx 0\n",
            "DEBUG:cmdstanpy:running CmdStan, num_threads: None\n",
            "DEBUG:cmdstanpy:CmdStan args: ['/usr/local/lib/python3.11/dist-packages/prophet/stan_model/prophet_model.bin', 'random', 'seed=22829', 'data', 'file=/tmp/tmpnalt1pn5/nmb6gsv5.json', 'init=/tmp/tmpnalt1pn5/ij4vxaql.json', 'output', 'file=/tmp/tmpnalt1pn5/prophet_modelc9a407d5/prophet_model-20250513093147.csv', 'method=optimize', 'algorithm=lbfgs', 'iter=10000']\n",
            "09:31:47 - cmdstanpy - INFO - Chain [1] start processing\n",
            "INFO:cmdstanpy:Chain [1] start processing\n",
            "09:31:48 - cmdstanpy - INFO - Chain [1] done processing\n",
            "INFO:cmdstanpy:Chain [1] done processing\n",
            "DEBUG:cmdstanpy:input tempfile: /tmp/tmpnalt1pn5/qco38o2q.json\n",
            "DEBUG:cmdstanpy:input tempfile: /tmp/tmpnalt1pn5/3es8zxgu.json\n",
            "DEBUG:cmdstanpy:idx 0\n",
            "DEBUG:cmdstanpy:running CmdStan, num_threads: None\n",
            "DEBUG:cmdstanpy:CmdStan args: ['/usr/local/lib/python3.11/dist-packages/prophet/stan_model/prophet_model.bin', 'random', 'seed=48709', 'data', 'file=/tmp/tmpnalt1pn5/qco38o2q.json', 'init=/tmp/tmpnalt1pn5/3es8zxgu.json', 'output', 'file=/tmp/tmpnalt1pn5/prophet_model0m122sls/prophet_model-20250513093148.csv', 'method=optimize', 'algorithm=lbfgs', 'iter=10000']\n",
            "09:31:48 - cmdstanpy - INFO - Chain [1] start processing\n",
            "INFO:cmdstanpy:Chain [1] start processing\n",
            "09:31:49 - cmdstanpy - INFO - Chain [1] done processing\n",
            "INFO:cmdstanpy:Chain [1] done processing\n",
            "DEBUG:cmdstanpy:input tempfile: /tmp/tmpnalt1pn5/y_mgge5_.json\n",
            "DEBUG:cmdstanpy:input tempfile: /tmp/tmpnalt1pn5/4oh1nyu3.json\n",
            "DEBUG:cmdstanpy:idx 0\n",
            "DEBUG:cmdstanpy:running CmdStan, num_threads: None\n",
            "DEBUG:cmdstanpy:CmdStan args: ['/usr/local/lib/python3.11/dist-packages/prophet/stan_model/prophet_model.bin', 'random', 'seed=17536', 'data', 'file=/tmp/tmpnalt1pn5/y_mgge5_.json', 'init=/tmp/tmpnalt1pn5/4oh1nyu3.json', 'output', 'file=/tmp/tmpnalt1pn5/prophet_model7xxffnql/prophet_model-20250513093149.csv', 'method=optimize', 'algorithm=lbfgs', 'iter=10000']\n",
            "09:31:49 - cmdstanpy - INFO - Chain [1] start processing\n",
            "INFO:cmdstanpy:Chain [1] start processing\n",
            "09:31:50 - cmdstanpy - INFO - Chain [1] done processing\n",
            "INFO:cmdstanpy:Chain [1] done processing\n",
            "DEBUG:cmdstanpy:input tempfile: /tmp/tmpnalt1pn5/taiaizgj.json\n",
            "DEBUG:cmdstanpy:input tempfile: /tmp/tmpnalt1pn5/ntv6au1c.json\n",
            "DEBUG:cmdstanpy:idx 0\n",
            "DEBUG:cmdstanpy:running CmdStan, num_threads: None\n",
            "DEBUG:cmdstanpy:CmdStan args: ['/usr/local/lib/python3.11/dist-packages/prophet/stan_model/prophet_model.bin', 'random', 'seed=5756', 'data', 'file=/tmp/tmpnalt1pn5/taiaizgj.json', 'init=/tmp/tmpnalt1pn5/ntv6au1c.json', 'output', 'file=/tmp/tmpnalt1pn5/prophet_modelsnytw1we/prophet_model-20250513093150.csv', 'method=optimize', 'algorithm=lbfgs', 'iter=10000']\n",
            "09:31:50 - cmdstanpy - INFO - Chain [1] start processing\n",
            "INFO:cmdstanpy:Chain [1] start processing\n",
            "09:31:51 - cmdstanpy - INFO - Chain [1] done processing\n",
            "INFO:cmdstanpy:Chain [1] done processing\n",
            "DEBUG:cmdstanpy:input tempfile: /tmp/tmpnalt1pn5/_x2c85ol.json\n",
            "DEBUG:cmdstanpy:input tempfile: /tmp/tmpnalt1pn5/pv4sk27b.json\n",
            "DEBUG:cmdstanpy:idx 0\n",
            "DEBUG:cmdstanpy:running CmdStan, num_threads: None\n",
            "DEBUG:cmdstanpy:CmdStan args: ['/usr/local/lib/python3.11/dist-packages/prophet/stan_model/prophet_model.bin', 'random', 'seed=67653', 'data', 'file=/tmp/tmpnalt1pn5/_x2c85ol.json', 'init=/tmp/tmpnalt1pn5/pv4sk27b.json', 'output', 'file=/tmp/tmpnalt1pn5/prophet_modelz7ly62dl/prophet_model-20250513093151.csv', 'method=optimize', 'algorithm=lbfgs', 'iter=10000']\n",
            "09:31:51 - cmdstanpy - INFO - Chain [1] start processing\n",
            "INFO:cmdstanpy:Chain [1] start processing\n",
            "09:31:52 - cmdstanpy - INFO - Chain [1] done processing\n",
            "INFO:cmdstanpy:Chain [1] done processing\n",
            "DEBUG:cmdstanpy:input tempfile: /tmp/tmpnalt1pn5/yz25dhaa.json\n",
            "DEBUG:cmdstanpy:input tempfile: /tmp/tmpnalt1pn5/ydpn0rq8.json\n",
            "DEBUG:cmdstanpy:idx 0\n",
            "DEBUG:cmdstanpy:running CmdStan, num_threads: None\n",
            "DEBUG:cmdstanpy:CmdStan args: ['/usr/local/lib/python3.11/dist-packages/prophet/stan_model/prophet_model.bin', 'random', 'seed=3354', 'data', 'file=/tmp/tmpnalt1pn5/yz25dhaa.json', 'init=/tmp/tmpnalt1pn5/ydpn0rq8.json', 'output', 'file=/tmp/tmpnalt1pn5/prophet_modelbrcfuqzz/prophet_model-20250513093152.csv', 'method=optimize', 'algorithm=lbfgs', 'iter=10000']\n",
            "09:31:52 - cmdstanpy - INFO - Chain [1] start processing\n",
            "INFO:cmdstanpy:Chain [1] start processing\n",
            "09:31:53 - cmdstanpy - INFO - Chain [1] done processing\n",
            "INFO:cmdstanpy:Chain [1] done processing\n",
            "DEBUG:cmdstanpy:input tempfile: /tmp/tmpnalt1pn5/h6xscf_t.json\n",
            "DEBUG:cmdstanpy:input tempfile: /tmp/tmpnalt1pn5/0_fsgzco.json\n",
            "DEBUG:cmdstanpy:idx 0\n",
            "DEBUG:cmdstanpy:running CmdStan, num_threads: None\n",
            "DEBUG:cmdstanpy:CmdStan args: ['/usr/local/lib/python3.11/dist-packages/prophet/stan_model/prophet_model.bin', 'random', 'seed=33173', 'data', 'file=/tmp/tmpnalt1pn5/h6xscf_t.json', 'init=/tmp/tmpnalt1pn5/0_fsgzco.json', 'output', 'file=/tmp/tmpnalt1pn5/prophet_modelp6xakgq5/prophet_model-20250513093153.csv', 'method=optimize', 'algorithm=lbfgs', 'iter=10000']\n",
            "09:31:53 - cmdstanpy - INFO - Chain [1] start processing\n",
            "INFO:cmdstanpy:Chain [1] start processing\n",
            "09:31:53 - cmdstanpy - INFO - Chain [1] done processing\n",
            "INFO:cmdstanpy:Chain [1] done processing\n",
            "DEBUG:cmdstanpy:input tempfile: /tmp/tmpnalt1pn5/hnzy5_bx.json\n",
            "DEBUG:cmdstanpy:input tempfile: /tmp/tmpnalt1pn5/3n8wuo4k.json\n",
            "DEBUG:cmdstanpy:idx 0\n",
            "DEBUG:cmdstanpy:running CmdStan, num_threads: None\n",
            "DEBUG:cmdstanpy:CmdStan args: ['/usr/local/lib/python3.11/dist-packages/prophet/stan_model/prophet_model.bin', 'random', 'seed=24509', 'data', 'file=/tmp/tmpnalt1pn5/hnzy5_bx.json', 'init=/tmp/tmpnalt1pn5/3n8wuo4k.json', 'output', 'file=/tmp/tmpnalt1pn5/prophet_modelw61r08r9/prophet_model-20250513093154.csv', 'method=optimize', 'algorithm=lbfgs', 'iter=10000']\n",
            "09:31:54 - cmdstanpy - INFO - Chain [1] start processing\n",
            "INFO:cmdstanpy:Chain [1] start processing\n",
            "09:31:54 - cmdstanpy - INFO - Chain [1] done processing\n",
            "INFO:cmdstanpy:Chain [1] done processing\n"
          ]
        }
      ]
    }
  ]
}